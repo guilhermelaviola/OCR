{
  "nbformat": 4,
  "nbformat_minor": 0,
  "metadata": {
    "colab": {
      "provenance": [],
      "authorship_tag": "ABX9TyNZv3NxOm1/0dFW7MKmiohW",
      "include_colab_link": true
    },
    "kernelspec": {
      "name": "python3",
      "display_name": "Python 3"
    },
    "language_info": {
      "name": "python"
    }
  },
  "cells": [
    {
      "cell_type": "markdown",
      "metadata": {
        "id": "view-in-github",
        "colab_type": "text"
      },
      "source": [
        "<a href=\"https://colab.research.google.com/github/guilhermelaviola/OCR/blob/main/OCRofHandwrittenDigits.ipynb\" target=\"_parent\"><img src=\"https://colab.research.google.com/assets/colab-badge.svg\" alt=\"Open In Colab\"/></a>"
      ]
    },
    {
      "cell_type": "code",
      "source": [
        "!pip install opencv-python"
      ],
      "metadata": {
        "id": "d8VBvcz2V8JJ",
        "outputId": "d4db372b-bea8-454d-bfb5-17a2c7681538",
        "colab": {
          "base_uri": "https://localhost:8080/"
        }
      },
      "execution_count": 1,
      "outputs": [
        {
          "output_type": "stream",
          "name": "stdout",
          "text": [
            "Requirement already satisfied: opencv-python in /usr/local/lib/python3.10/dist-packages (4.10.0.84)\n",
            "Requirement already satisfied: numpy>=1.21.2 in /usr/local/lib/python3.10/dist-packages (from opencv-python) (1.26.4)\n"
          ]
        }
      ]
    },
    {
      "cell_type": "code",
      "execution_count": 2,
      "metadata": {
        "id": "DZPjKOIOrhK0"
      },
      "outputs": [],
      "source": [
        "# Importing all the necessary libraries:\n",
        "import numpy as np\n",
        "import cv2"
      ]
    },
    {
      "cell_type": "code",
      "source": [
        "# Reading the image:\n",
        "image = cv2.imread('digits.png')"
      ],
      "metadata": {
        "id": "bFkauMO1r2ZF"
      },
      "execution_count": 9,
      "outputs": []
    },
    {
      "cell_type": "code",
      "source": [
        "# Converting the image to grayscale:\n",
        "gray_img = cv2.cvtColor(image, cv2.COLOR_BGR2GRAY)"
      ],
      "metadata": {
        "id": "HrM6yf5ssGJD"
      },
      "execution_count": 10,
      "outputs": []
    },
    {
      "cell_type": "code",
      "source": [
        "# Dividing the into 5000 small small dimensions of size 20x20:\n",
        "divisions = list(np.hsplit(i, 100) for i in np.vsplit(gray_img, 50))"
      ],
      "metadata": {
        "id": "8MyVCKCOWiq7"
      },
      "execution_count": 11,
      "outputs": []
    },
    {
      "cell_type": "code",
      "source": [
        "# Converting into Numpy array of size (50, 100, 20, 20):\n",
        "NP_array = np.array(divisions)"
      ],
      "metadata": {
        "id": "lQwT3Gk9XLox"
      },
      "execution_count": 12,
      "outputs": []
    },
    {
      "cell_type": "code",
      "source": [
        "# Preparing train data. The size will be (2500, 20x20):\n",
        "train_data = NP_array[:,:100].reshape(-1, 400).astype(np.float32)"
      ],
      "metadata": {
        "id": "vBpSb00pXaQT"
      },
      "execution_count": 13,
      "outputs": []
    },
    {
      "cell_type": "code",
      "source": [
        "# Preparing test data. The size will be (2500, 20x20):\n",
        "test_data = NP_array[:,50:100].reshape(-1, 400).astype(np.float32)"
      ],
      "metadata": {
        "id": "Wft1rTOrYkkC"
      },
      "execution_count": 14,
      "outputs": []
    },
    {
      "cell_type": "code",
      "source": [
        "# Creating 10 different labels for each type of digit:\n",
        "k = np.arange(10)\n",
        "train_labels = np.repeat(k, 250)[:, np.newaxis]\n",
        "test_labels = np.repeat(k, 250)[:, np.newaxis]"
      ],
      "metadata": {
        "id": "qupEtLf0Y6Mr"
      },
      "execution_count": 15,
      "outputs": []
    },
    {
      "cell_type": "code",
      "source": [
        "# Initiating kNN classifier:\n",
        "knn = cv2.ml.KNearest_create()"
      ],
      "metadata": {
        "id": "ZCF0vlbrZdsu"
      },
      "execution_count": 16,
      "outputs": []
    },
    {
      "cell_type": "code",
      "source": [
        "# Displaying and modifying train_labels shape:\n",
        "print(train_labels.shape)\n",
        "train_labels = train_labels.reshape(-1, 1)"
      ],
      "metadata": {
        "id": "qB6p_s3lc3Nr",
        "outputId": "62ed180b-a8db-4dcb-9c79-b95e99ff293f",
        "colab": {
          "base_uri": "https://localhost:8080/"
        }
      },
      "execution_count": 17,
      "outputs": [
        {
          "output_type": "stream",
          "name": "stdout",
          "text": [
            "(2500, 1)\n"
          ]
        }
      ]
    },
    {
      "cell_type": "code",
      "source": [
        "# Investigating the error:\n",
        "print(train_data.shape)\n",
        "print(train_labels.shape)"
      ],
      "metadata": {
        "id": "YDOrpx5VVbwo",
        "outputId": "4a9cbaca-0c44-4104-b1ac-291836b559a4",
        "colab": {
          "base_uri": "https://localhost:8080/"
        }
      },
      "execution_count": 18,
      "outputs": [
        {
          "output_type": "stream",
          "name": "stdout",
          "text": [
            "(5000, 400)\n",
            "(2500, 1)\n"
          ]
        }
      ]
    },
    {
      "cell_type": "code",
      "source": [
        "# Performing data training:\n",
        "# Reshaping train_data to have the correct number of rows:\n",
        "train_data = train_data.reshape(train_labels.shape[0], -1)  # Reshape train_data to have the same number of rows as train_labels\n",
        "\n",
        "# Now train the kNN model:\n",
        "knn.train(train_data, cv2.ml.ROW_SAMPLE, train_labels)"
      ],
      "metadata": {
        "id": "1VVZ-kOCVpz7",
        "outputId": "21d1f373-42cc-4dc9-ca3a-77e19b9b3a3e",
        "colab": {
          "base_uri": "https://localhost:8080/"
        }
      },
      "execution_count": 23,
      "outputs": [
        {
          "output_type": "execute_result",
          "data": {
            "text/plain": [
              "True"
            ]
          },
          "metadata": {},
          "execution_count": 23
        }
      ]
    },
    {
      "cell_type": "code",
      "source": [
        "# Performing data training:\n",
        "knn.train(train_data, cv2.ml.ROW_SAMPLE, train_labels)"
      ],
      "metadata": {
        "id": "Xa1HEHpQZrsW",
        "outputId": "785d5182-3e49-4b85-f50d-0d63808c9b6c",
        "colab": {
          "base_uri": "https://localhost:8080/"
        }
      },
      "execution_count": 24,
      "outputs": [
        {
          "output_type": "execute_result",
          "data": {
            "text/plain": [
              "True"
            ]
          },
          "metadata": {},
          "execution_count": 24
        }
      ]
    },
    {
      "cell_type": "code",
      "source": [
        "# Obtaining the output from the\n",
        "# classifier by specifying the\n",
        "# number of neighbors:\n",
        "ret, output, neighbours,\n",
        "distance = knn.findNearest(test_data, k = 3)"
      ],
      "metadata": {
        "id": "DNgn0M9kayOq",
        "outputId": "903269e5-efac-4bbb-ca82-e62ea8bbe67d",
        "colab": {
          "base_uri": "https://localhost:8080/",
          "height": 193
        }
      },
      "execution_count": 32,
      "outputs": [
        {
          "output_type": "error",
          "ename": "NameError",
          "evalue": "name 'ret' is not defined",
          "traceback": [
            "\u001b[0;31m---------------------------------------------------------------------------\u001b[0m",
            "\u001b[0;31mNameError\u001b[0m                                 Traceback (most recent call last)",
            "\u001b[0;32m<ipython-input-32-7da7a7429a15>\u001b[0m in \u001b[0;36m<cell line: 4>\u001b[0;34m()\u001b[0m\n\u001b[1;32m      2\u001b[0m \u001b[0;31m# classifier by specifying the\u001b[0m\u001b[0;34m\u001b[0m\u001b[0;34m\u001b[0m\u001b[0m\n\u001b[1;32m      3\u001b[0m \u001b[0;31m# number of neighbors.\u001b[0m\u001b[0;34m\u001b[0m\u001b[0;34m\u001b[0m\u001b[0m\n\u001b[0;32m----> 4\u001b[0;31m \u001b[0mret\u001b[0m\u001b[0;34m,\u001b[0m \u001b[0moutput\u001b[0m\u001b[0;34m,\u001b[0m \u001b[0mneighbours\u001b[0m\u001b[0;34m,\u001b[0m\u001b[0;34m\u001b[0m\u001b[0;34m\u001b[0m\u001b[0m\n\u001b[0m\u001b[1;32m      5\u001b[0m \u001b[0mdistance\u001b[0m \u001b[0;34m=\u001b[0m \u001b[0mknn\u001b[0m\u001b[0;34m.\u001b[0m\u001b[0mfindNearest\u001b[0m\u001b[0;34m(\u001b[0m\u001b[0mtest_data\u001b[0m\u001b[0;34m,\u001b[0m \u001b[0mk\u001b[0m \u001b[0;34m=\u001b[0m \u001b[0;36m3\u001b[0m\u001b[0;34m)\u001b[0m\u001b[0;34m\u001b[0m\u001b[0;34m\u001b[0m\u001b[0m\n",
            "\u001b[0;31mNameError\u001b[0m: name 'ret' is not defined"
          ]
        }
      ]
    },
    {
      "cell_type": "code",
      "source": [
        "# Checking the performance and accuracy of the classifier and comparing the output with test_labels to find out how many are wrong:\n",
        "matched = output == test_labels\n",
        "correct_OP = np.count_nonzero(matched)"
      ],
      "metadata": {
        "id": "IT6gT-ywbH5r"
      },
      "execution_count": null,
      "outputs": []
    },
    {
      "cell_type": "code",
      "source": [
        "# Calculating the accuracy:\n",
        "accuracy = (correct_OP*100.0)/(output.size)"
      ],
      "metadata": {
        "id": "PHFWdMxKbjDX"
      },
      "execution_count": null,
      "outputs": []
    },
    {
      "cell_type": "code",
      "source": [
        "# Displayimg the accuracy:\n",
        "print(accuracy)"
      ],
      "metadata": {
        "id": "9-YN2Xdebwyg"
      },
      "execution_count": null,
      "outputs": []
    },
    {
      "cell_type": "code",
      "source": [
        "# Checking the image size:\n",
        "image_height, image_width = gray_img.shape[:2]\n",
        "\n",
        "# Calculating the number of divisions along each axis:\n",
        "num_vertical_divisions = 50\n",
        "num_horizontal_divisions = 100\n",
        "\n",
        "# Checking if the number of divisions is a multiple of the image size:\n",
        "if image_height % num_vertical_divisions != 0 or image_width % num_horizontal_divisions != 0:\n",
        "  raise ValueError('Number of divisions is not a multiple of image size')\n",
        "\n",
        "# If the number of divisions is not a multiple of the image size, then the number of divisions is adjusted accordingly:\n",
        "num_vertical_divisions = image_height // 50\n",
        "num_horizontal_divisions = image_width // 100\n",
        "\n",
        "# Splitting the image:\n",
        "divisions = list(np.hsplit(i, num_horizontal_divisions) for i in np.vsplit(gray_img, num_vertical_divisions))"
      ],
      "metadata": {
        "colab": {
          "base_uri": "https://localhost:8080/",
          "height": 228
        },
        "id": "Ap_drBSMs3QX",
        "outputId": "6a655fe0-26cd-4c67-ad4a-a5afb64164da"
      },
      "execution_count": null,
      "outputs": [
        {
          "output_type": "error",
          "ename": "ValueError",
          "evalue": "Number of divisions is not a multiple of image size",
          "traceback": [
            "\u001b[0;31m---------------------------------------------------------------------------\u001b[0m",
            "\u001b[0;31mValueError\u001b[0m                                Traceback (most recent call last)",
            "\u001b[0;32m<ipython-input-11-09caf6c7627a>\u001b[0m in \u001b[0;36m<cell line: 9>\u001b[0;34m()\u001b[0m\n\u001b[1;32m      8\u001b[0m \u001b[0;31m# Checking if the number of divisions is a multiple of the image size:\u001b[0m\u001b[0;34m\u001b[0m\u001b[0;34m\u001b[0m\u001b[0m\n\u001b[1;32m      9\u001b[0m \u001b[0;32mif\u001b[0m \u001b[0mimage_height\u001b[0m \u001b[0;34m%\u001b[0m \u001b[0mnum_vertical_divisions\u001b[0m \u001b[0;34m!=\u001b[0m \u001b[0;36m0\u001b[0m \u001b[0;32mor\u001b[0m \u001b[0mimage_width\u001b[0m \u001b[0;34m%\u001b[0m \u001b[0mnum_horizontal_divisions\u001b[0m \u001b[0;34m!=\u001b[0m \u001b[0;36m0\u001b[0m\u001b[0;34m:\u001b[0m\u001b[0;34m\u001b[0m\u001b[0;34m\u001b[0m\u001b[0m\n\u001b[0;32m---> 10\u001b[0;31m   \u001b[0;32mraise\u001b[0m \u001b[0mValueError\u001b[0m\u001b[0;34m(\u001b[0m\u001b[0;34m'Number of divisions is not a multiple of image size'\u001b[0m\u001b[0;34m)\u001b[0m\u001b[0;34m\u001b[0m\u001b[0;34m\u001b[0m\u001b[0m\n\u001b[0m\u001b[1;32m     11\u001b[0m \u001b[0mnum_vertical_divisions\u001b[0m \u001b[0;34m=\u001b[0m \u001b[0mimage_height\u001b[0m \u001b[0;34m//\u001b[0m \u001b[0;36m50\u001b[0m\u001b[0;34m\u001b[0m\u001b[0;34m\u001b[0m\u001b[0m\n\u001b[1;32m     12\u001b[0m \u001b[0mnum_horizontal_divisions\u001b[0m \u001b[0;34m=\u001b[0m \u001b[0mimage_width\u001b[0m \u001b[0;34m//\u001b[0m \u001b[0;36m100\u001b[0m\u001b[0;34m\u001b[0m\u001b[0;34m\u001b[0m\u001b[0m\n",
            "\u001b[0;31mValueError\u001b[0m: Number of divisions is not a multiple of image size"
          ]
        }
      ]
    }
  ]
}