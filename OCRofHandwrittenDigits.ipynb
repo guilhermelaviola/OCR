{
  "nbformat": 4,
  "nbformat_minor": 0,
  "metadata": {
    "colab": {
      "provenance": [],
      "authorship_tag": "ABX9TyNeMkiXf+Nzof/tvZlNBmyk",
      "include_colab_link": true
    },
    "kernelspec": {
      "name": "python3",
      "display_name": "Python 3"
    },
    "language_info": {
      "name": "python"
    }
  },
  "cells": [
    {
      "cell_type": "markdown",
      "metadata": {
        "id": "view-in-github",
        "colab_type": "text"
      },
      "source": [
        "<a href=\"https://colab.research.google.com/github/guilhermelaviola/OCR/blob/main/OCRofHandwrittenDigits.ipynb\" target=\"_parent\"><img src=\"https://colab.research.google.com/assets/colab-badge.svg\" alt=\"Open In Colab\"/></a>"
      ]
    },
    {
      "cell_type": "code",
      "execution_count": 1,
      "metadata": {
        "id": "DZPjKOIOrhK0"
      },
      "outputs": [],
      "source": [
        "# Importing all the necessary libraries:\n",
        "import numpy as np\n",
        "import cv2"
      ]
    },
    {
      "cell_type": "code",
      "source": [
        "# Reading the image:\n",
        "img = cv2.imread('digits1.png')"
      ],
      "metadata": {
        "id": "bFkauMO1r2ZF"
      },
      "execution_count": 12,
      "outputs": []
    },
    {
      "cell_type": "code",
      "source": [
        "# Converting the image to grayscale:\n",
        "gray_img = cv2.cvtColor(img, cv2.COLOR_BGR2GRAY)"
      ],
      "metadata": {
        "id": "HrM6yf5ssGJD"
      },
      "execution_count": 13,
      "outputs": []
    },
    {
      "cell_type": "code",
      "source": [
        "# Dividing the into 5000 small small dimensions of size 20x20:\n",
        "divisions = list(np.hsplit(i, 100) for i in np.vsplit(gray_img, 50))"
      ],
      "metadata": {
        "id": "8MyVCKCOWiq7"
      },
      "execution_count": 14,
      "outputs": []
    },
    {
      "cell_type": "code",
      "source": [
        "# Converting into Numpy array of size (50, 100, 20, 20):\n",
        "NP_array = np.array(divisions)"
      ],
      "metadata": {
        "id": "lQwT3Gk9XLox"
      },
      "execution_count": 15,
      "outputs": []
    },
    {
      "cell_type": "code",
      "source": [
        "# Preparing train data. The size will be (2500, 20x20):\n",
        "train_data = NP_array[:,:100].reshape(-1, 400).astype(np.float32)"
      ],
      "metadata": {
        "id": "vBpSb00pXaQT"
      },
      "execution_count": 18,
      "outputs": []
    },
    {
      "cell_type": "code",
      "source": [
        "# Preparing test data. The size will be (2500, 20x20):\n",
        "test_data = NP_array[:,50:100].reshape(-1, 400).astype(np.float32)"
      ],
      "metadata": {
        "id": "Wft1rTOrYkkC"
      },
      "execution_count": 19,
      "outputs": []
    },
    {
      "cell_type": "code",
      "source": [
        "# Creating 10 different labels for each type of digit:\n",
        "k = np.arange(10)\n",
        "train_labels = np.repeat(k, 250)[:, np.newaxis]\n",
        "test_labels = np.repeat(k, 250)[:, np.newaxis]"
      ],
      "metadata": {
        "id": "qupEtLf0Y6Mr"
      },
      "execution_count": 21,
      "outputs": []
    },
    {
      "cell_type": "code",
      "source": [
        "# Initiating kNN classifier:\n",
        "knn = cv2.ml.KNearest_create()"
      ],
      "metadata": {
        "id": "ZCF0vlbrZdsu"
      },
      "execution_count": 22,
      "outputs": []
    },
    {
      "cell_type": "code",
      "source": [
        "# Performing data training:\n",
        "knn.train(train_data, cv2.ml.ROW_SAMPLE, train_labels)"
      ],
      "metadata": {
        "id": "Xa1HEHpQZrsW",
        "outputId": "ac16af13-71cc-4cd2-f3c4-3c0c7759a13a",
        "colab": {
          "base_uri": "https://localhost:8080/",
          "height": 193
        }
      },
      "execution_count": 23,
      "outputs": [
        {
          "output_type": "error",
          "ename": "error",
          "evalue": "OpenCV(4.8.0) /io/opencv/modules/ml/src/data.cpp:295: error: (-215:Assertion failed) (layout == ROW_SAMPLE && responses.rows == nsamples) || (layout == COL_SAMPLE && responses.cols == nsamples) in function 'setData'\n",
          "traceback": [
            "\u001b[0;31m---------------------------------------------------------------------------\u001b[0m",
            "\u001b[0;31merror\u001b[0m                                     Traceback (most recent call last)",
            "\u001b[0;32m<ipython-input-23-a385003cdc78>\u001b[0m in \u001b[0;36m<cell line: 2>\u001b[0;34m()\u001b[0m\n\u001b[1;32m      1\u001b[0m \u001b[0;31m# Performing data training:\u001b[0m\u001b[0;34m\u001b[0m\u001b[0;34m\u001b[0m\u001b[0m\n\u001b[0;32m----> 2\u001b[0;31m \u001b[0mknn\u001b[0m\u001b[0;34m.\u001b[0m\u001b[0mtrain\u001b[0m\u001b[0;34m(\u001b[0m\u001b[0mtrain_data\u001b[0m\u001b[0;34m,\u001b[0m \u001b[0mcv2\u001b[0m\u001b[0;34m.\u001b[0m\u001b[0mml\u001b[0m\u001b[0;34m.\u001b[0m\u001b[0mROW_SAMPLE\u001b[0m\u001b[0;34m,\u001b[0m \u001b[0mtrain_labels\u001b[0m\u001b[0;34m)\u001b[0m\u001b[0;34m\u001b[0m\u001b[0;34m\u001b[0m\u001b[0m\n\u001b[0m",
            "\u001b[0;31merror\u001b[0m: OpenCV(4.8.0) /io/opencv/modules/ml/src/data.cpp:295: error: (-215:Assertion failed) (layout == ROW_SAMPLE && responses.rows == nsamples) || (layout == COL_SAMPLE && responses.cols == nsamples) in function 'setData'\n"
          ]
        }
      ]
    },
    {
      "cell_type": "code",
      "source": [
        "# Checking the image size:\n",
        "image_height, image_width = gray_img.shape[:2]\n",
        "\n",
        "# Calculating the number of divisions along each axis:\n",
        "num_vertical_divisions = 50\n",
        "num_horizontal_divisions = 100\n",
        "\n",
        "# Checking if the number of divisions is a multiple of the image size:\n",
        "if image_height % num_vertical_divisions != 0 or image_width % num_horizontal_divisions != 0:\n",
        "  raise ValueError('Number of divisions is not a multiple of image size')\n",
        "\n",
        "# If the number of divisions is not a multiple of the image size, then the number of divisions is adjusted accordingly:\n",
        "num_vertical_divisions = image_height // 50\n",
        "num_horizontal_divisions = image_width // 100\n",
        "\n",
        "# Splitting the image:\n",
        "divisions = list(np.hsplit(i, num_horizontal_divisions) for i in np.vsplit(gray_img, num_vertical_divisions))"
      ],
      "metadata": {
        "colab": {
          "base_uri": "https://localhost:8080/",
          "height": 228
        },
        "id": "Ap_drBSMs3QX",
        "outputId": "6a655fe0-26cd-4c67-ad4a-a5afb64164da"
      },
      "execution_count": 11,
      "outputs": [
        {
          "output_type": "error",
          "ename": "ValueError",
          "evalue": "Number of divisions is not a multiple of image size",
          "traceback": [
            "\u001b[0;31m---------------------------------------------------------------------------\u001b[0m",
            "\u001b[0;31mValueError\u001b[0m                                Traceback (most recent call last)",
            "\u001b[0;32m<ipython-input-11-09caf6c7627a>\u001b[0m in \u001b[0;36m<cell line: 9>\u001b[0;34m()\u001b[0m\n\u001b[1;32m      8\u001b[0m \u001b[0;31m# Checking if the number of divisions is a multiple of the image size:\u001b[0m\u001b[0;34m\u001b[0m\u001b[0;34m\u001b[0m\u001b[0m\n\u001b[1;32m      9\u001b[0m \u001b[0;32mif\u001b[0m \u001b[0mimage_height\u001b[0m \u001b[0;34m%\u001b[0m \u001b[0mnum_vertical_divisions\u001b[0m \u001b[0;34m!=\u001b[0m \u001b[0;36m0\u001b[0m \u001b[0;32mor\u001b[0m \u001b[0mimage_width\u001b[0m \u001b[0;34m%\u001b[0m \u001b[0mnum_horizontal_divisions\u001b[0m \u001b[0;34m!=\u001b[0m \u001b[0;36m0\u001b[0m\u001b[0;34m:\u001b[0m\u001b[0;34m\u001b[0m\u001b[0;34m\u001b[0m\u001b[0m\n\u001b[0;32m---> 10\u001b[0;31m   \u001b[0;32mraise\u001b[0m \u001b[0mValueError\u001b[0m\u001b[0;34m(\u001b[0m\u001b[0;34m'Number of divisions is not a multiple of image size'\u001b[0m\u001b[0;34m)\u001b[0m\u001b[0;34m\u001b[0m\u001b[0;34m\u001b[0m\u001b[0m\n\u001b[0m\u001b[1;32m     11\u001b[0m \u001b[0mnum_vertical_divisions\u001b[0m \u001b[0;34m=\u001b[0m \u001b[0mimage_height\u001b[0m \u001b[0;34m//\u001b[0m \u001b[0;36m50\u001b[0m\u001b[0;34m\u001b[0m\u001b[0;34m\u001b[0m\u001b[0m\n\u001b[1;32m     12\u001b[0m \u001b[0mnum_horizontal_divisions\u001b[0m \u001b[0;34m=\u001b[0m \u001b[0mimage_width\u001b[0m \u001b[0;34m//\u001b[0m \u001b[0;36m100\u001b[0m\u001b[0;34m\u001b[0m\u001b[0;34m\u001b[0m\u001b[0m\n",
            "\u001b[0;31mValueError\u001b[0m: Number of divisions is not a multiple of image size"
          ]
        }
      ]
    }
  ]
}